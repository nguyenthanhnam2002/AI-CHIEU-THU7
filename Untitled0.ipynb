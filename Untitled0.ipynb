{
  "nbformat": 4,
  "nbformat_minor": 0,
  "metadata": {
    "colab": {
      "provenance": [],
      "authorship_tag": "ABX9TyP+TKnZ44w5P+jEkwgLJndH",
      "include_colab_link": true
    },
    "kernelspec": {
      "name": "python3",
      "display_name": "Python 3"
    },
    "language_info": {
      "name": "python"
    }
  },
  "cells": [
    {
      "cell_type": "markdown",
      "metadata": {
        "id": "view-in-github",
        "colab_type": "text"
      },
      "source": [
        "<a href=\"https://colab.research.google.com/github/nguyenthanhnam2002/AI-CHIEU-THU7/blob/main/Untitled0.ipynb\" target=\"_parent\"><img src=\"https://colab.research.google.com/assets/colab-badge.svg\" alt=\"Open In Colab\"/></a>"
      ]
    },
    {
      "cell_type": "code",
      "execution_count": null,
      "metadata": {
        "colab": {
          "base_uri": "https://localhost:8080/"
        },
        "id": "LykjZfSmSSOB",
        "outputId": "5b5ffff4-2568-41ea-977a-ea23880aded1"
      },
      "outputs": [
        {
          "output_type": "stream",
          "name": "stdout",
          "text": [
            "Looking in indexes: https://pypi.org/simple, https://us-python.pkg.dev/colab-wheels/public/simple/\n",
            "Collecting scikit-fuzzy\n",
            "  Downloading scikit-fuzzy-0.4.2.tar.gz (993 kB)\n",
            "\u001b[2K     \u001b[90m━━━━━━━━━━━━━━━━━━━━━━━━━━━━━━━━━━━━━━\u001b[0m \u001b[32m994.0/994.0 KB\u001b[0m \u001b[31m12.1 MB/s\u001b[0m eta \u001b[36m0:00:00\u001b[0m\n",
            "\u001b[?25h  Preparing metadata (setup.py) ... \u001b[?25l\u001b[?25hdone\n",
            "Requirement already satisfied: numpy>=1.6.0 in /usr/local/lib/python3.8/dist-packages (from scikit-fuzzy) (1.22.4)\n",
            "Requirement already satisfied: scipy>=0.9.0 in /usr/local/lib/python3.8/dist-packages (from scikit-fuzzy) (1.7.3)\n",
            "Requirement already satisfied: networkx>=1.9.0 in /usr/local/lib/python3.8/dist-packages (from scikit-fuzzy) (3.0)\n",
            "Building wheels for collected packages: scikit-fuzzy\n",
            "  Building wheel for scikit-fuzzy (setup.py) ... \u001b[?25l\u001b[?25hdone\n",
            "  Created wheel for scikit-fuzzy: filename=scikit_fuzzy-0.4.2-py3-none-any.whl size=894088 sha256=9e4e4722928ddd1a4a652618fb3d19d05149a4aa1f4f37f331c8f5bf6742fb12\n",
            "  Stored in directory: /root/.cache/pip/wheels/2c/04/80/7eefb1a2de7d36aefd06432fab2a1486caf0a0596a7067391a\n",
            "Successfully built scikit-fuzzy\n",
            "Installing collected packages: scikit-fuzzy\n",
            "Successfully installed scikit-fuzzy-0.4.2\n"
          ]
        }
      ],
      "source": [
        "pip install scikit-fuzzy\n"
      ]
    },
    {
      "cell_type": "code",
      "source": [
        "import numpy as np\n",
        "import skfuzzy as fuzz\n",
        "import matplotlib.pyplot as plt\n",
        "from skfuzzy import control as ctrl\n",
        "x = np.arange(50,120,1)\n",
        "slow = fuzz.trimf(x,[50,50,60])\n",
        "plt.figure()\n",
        "plt.plot(x, slow, '.', linewidth = 1.5, label = 'slow')\n",
        "medium = fuzz.trimf(x,[50,60,70])\n",
        "plt.plot(x, medium, '.', linewidth = 1.5, label = 'medium')\n",
        "medium_fast = fuzz.trimf(x,[60,70,80])\n",
        "plt.plot(x, medium_fast, '.', linewidth = 1.5, label = 'medium_fast')\n",
        "full_speed = fuzz.trimf(x,[70, 80,80])\n",
        "plt.plot(x, full_speed, '.', linewidth = 1.5, label = 'full_speed')\n"
      ],
      "metadata": {
        "colab": {
          "base_uri": "https://localhost:8080/",
          "height": 282
        },
        "id": "fwoS1PlAS37K",
        "outputId": "60d8055d-d3e0-4f38-c31b-15e31fccb683"
      },
      "execution_count": null,
      "outputs": [
        {
          "output_type": "execute_result",
          "data": {
            "text/plain": [
              "[<matplotlib.lines.Line2D at 0x7f5cc1c225e0>]"
            ]
          },
          "metadata": {},
          "execution_count": 14
        },
        {
          "output_type": "display_data",
          "data": {
            "text/plain": [
              "<Figure size 432x288 with 1 Axes>"
            ],
            "image/png": "[encoded data removed]"
          },
          "metadata": {
            "needs_background": "light"
          }
        }
      ]
    },
    {
      "cell_type": "code",
      "source": [
        "slow = fuzz.trapmf(x,[50,60,70,80])\n",
        "plt.plot(x, slow, '.', linewidth = 1.5, label = 'slow')\n",
        "medium = fuzz.trapmf(x,[60,70,80,90])\n",
        "plt.plot(x, medium, '.', linewidth = 1.5, label = 'medium')\n",
        "medium_fast = fuzz.trapmf(x,[70,80,90,100])\n",
        "plt.plot(x, medium_fast, '.', linewidth = 1.5, label = 'medium_fast')\n",
        "full_speed = fuzz.trapmf(x,[80, 90,100,110])\n",
        "plt.plot(x, full_speed, '.', linewidth = 1.5, label = 'full_speed')\n"
      ],
      "metadata": {
        "colab": {
          "base_uri": "https://localhost:8080/",
          "height": 282
        },
        "id": "H1nZMlBgfREE",
        "outputId": "cf7984e3-1e46-418e-f01d-8c2bf2634b3e"
      },
      "execution_count": null,
      "outputs": [
        {
          "output_type": "execute_result",
          "data": {
            "text/plain": [
              "[<matplotlib.lines.Line2D at 0x7f5cbf38dac0>]"
            ]
          },
          "metadata": {},
          "execution_count": 16
        },
        {
          "output_type": "display_data",
          "data": {
            "text/plain": [
              "<Figure size 432x288 with 1 Axes>"
            ],
            "image/png": "[encoded data removed]"
          },
          "metadata": {
            "needs_background": "light"
          }
        }
      ]
    },
    {
      "cell_type": "code",
      "source": [
        "food = ctrl.Antecedent(np.arange(0,11,1),'food')\n",
        "service = ctrl.Antecedent(np.arange(0,11,1),'service')\n",
        "tip = ctrl.Consequent(np.arange(10,31,1), 'tip')\n",
        "food['poor'] = fuzz.trimf(food.universe,[0,0,5])\n",
        "food['average'] = fuzz.trimf(food.universe,[0,5,10])\n",
        "food['good'] = fuzz.trimf(food.universe,[5,10,10])\n",
        "\n",
        "service['poor'] = fuzz.trimf(service.universe,[0,0,5])\n",
        "service['average'] = fuzz.trimf(service.universe,[0,5,10])\n",
        "service['good'] = fuzz.trimf(service.universe,[5,10,10])\n",
        "\n",
        "tip['less'] = fuzz.trimf(tip.universe,[0,0,5])\n",
        "tip['average'] = fuzz.trimf(tip.universe,[0,5,10])\n",
        "tip['much'] = fuzz.trimf(tip.universe,[5,10,10])\n",
        "\n",
        "#food.view()\n",
        "#tip.view()\n",
        "# service['average].view()\n",
        "\n"
      ],
      "metadata": {
        "id": "tqcqet7OfV4f"
      },
      "execution_count": null,
      "outputs": []
    },
    {
      "cell_type": "code",
      "source": [
        "rule1=ctrl.Rule(food['poor'] & service['poor'],tip['less'])\n",
        "rule2=ctrl.Rule(food['poor'] & service['average'],tip['less'])\n",
        "rule3=ctrl.Rule(food['poor'] & service['good'],tip['less'])\n",
        "rule4=ctrl.Rule(food['average'] & service['poor'],tip['less'])\n",
        "rule5=ctrl.Rule(food['average'] & service['average'],tip['less'])\n",
        "rule6=ctrl.Rule(food['average'] & service['good'],tip['much'])\n",
        "rule7=ctrl.Rule(food['good'] & service['average'],tip['much'])\n",
        "rule8=ctrl.Rule(food['good'] & service['good'],tip['much'])\n",
        "rule9=ctrl.Rule(food['good'] & service['poor'],tip['much'])\n",
        "\n",
        "tipping_ctrl = ctrl.ControlSystem([rule1,rule2,rule3,rule4,rule5,rule6,rule7,rule8,rule9])\n",
        "tipping = ctrl.ControlSystemSimulation(tipping_ctrl)\n",
        "\n",
        "tipping.input['food'] = 10\n",
        "tipping.input['service'] = 20\n",
        "tipping.compute()\n",
        "print(tipping.output['tip'])\n",
        "# tip.view(sim = tipping)\n"
      ],
      "metadata": {
        "colab": {
          "base_uri": "https://localhost:8080/"
        },
        "id": "0JIKBsCwiCtS",
        "outputId": "e30449a3-db06-4d72-a5c8-2531d9edbd47"
      },
      "execution_count": null,
      "outputs": [
        {
          "output_type": "stream",
          "name": "stdout",
          "text": [
            "10.333333333333334\n"
          ]
        }
      ]
    },
    {
      "cell_type": "code",
      "source": [],
      "metadata": {
        "id": "VIOTiYwyu7Ic"
      },
      "execution_count": null,
      "outputs": []
    }
  ]
}